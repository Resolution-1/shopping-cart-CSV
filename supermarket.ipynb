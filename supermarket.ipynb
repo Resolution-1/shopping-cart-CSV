{
  "nbformat": 4,
  "nbformat_minor": 0,
  "metadata": {
    "colab": {
      "name": "supermarket",
      "provenance": [],
      "authorship_tag": "ABX9TyOWGP9SaH8O3tIW2cSbP1Cy",
      "include_colab_link": true
    },
    "kernelspec": {
      "name": "python3",
      "display_name": "Python 3"
    },
    "language_info": {
      "name": "python"
    }
  },
  "cells": [
    {
      "cell_type": "markdown",
      "metadata": {
        "id": "view-in-github",
        "colab_type": "text"
      },
      "source": [
        "<a href=\"https://colab.research.google.com/github/Resolution-1/shopping-cart-CSV/blob/main/supermarket.ipynb\" target=\"_parent\"><img src=\"https://colab.research.google.com/assets/colab-badge.svg\" alt=\"Open In Colab\"/></a>"
      ]
    },
    {
      "cell_type": "code",
      "execution_count": 1,
      "metadata": {
        "id": "X-kC8KpLHwyN"
      },
      "outputs": [],
      "source": [
        "import numpy as np # linear algebra\n",
        "import pandas as pd # data processing, CSV file I/O (e.g. pd.read_csv)\n"
      ]
    },
    {
      "cell_type": "code",
      "source": [
        "import numpy as np\n",
        "import pandas as pd\n",
        "from mlxtend.frequent_patterns import apriori,association_rules\n",
        "from mlxtend.preprocessing import TransactionEncoder\n",
        "import matplotlib.pyplot as plt"
      ],
      "metadata": {
        "id": "lcIHF7fVOPVY"
      },
      "execution_count": 2,
      "outputs": []
    },
    {
      "cell_type": "code",
      "source": [
        "data_path = 'https://raw.githubusercontent.com/Resolution-1/shopping-cart-CSV/main/shooping%20cart%20data.csv'"
      ],
      "metadata": {
        "id": "Jaa5gHVQQHcQ"
      },
      "execution_count": 16,
      "outputs": []
    },
    {
      "cell_type": "code",
      "source": [
        "data = pd.read_csv(data_path, names=['Date','Count','Items'])"
      ],
      "metadata": {
        "id": "DmrQSoYEQRm0"
      },
      "execution_count": 15,
      "outputs": []
    },
    {
      "cell_type": "code",
      "source": [
        "transactionData = pd.crosstab(data['Date'],data['Items'])"
      ],
      "metadata": {
        "id": "f9WmDIuLQYwW"
      },
      "execution_count": 17,
      "outputs": []
    },
    {
      "cell_type": "code",
      "source": [
        "transactionData.head(10)"
      ],
      "metadata": {
        "id": "q0an_eWoQiy4"
      },
      "execution_count": null,
      "outputs": []
    },
    {
      "cell_type": "code",
      "source": [
        "transactionData.columns"
      ],
      "metadata": {
        "id": "t6Fx-iMERBok"
      },
      "execution_count": null,
      "outputs": []
    },
    {
      "cell_type": "code",
      "source": [
        "list(data['Items'].unique())"
      ],
      "metadata": {
        "id": "OFth4Uv-RGwT"
      },
      "execution_count": null,
      "outputs": []
    },
    {
      "cell_type": "code",
      "source": [
        "transactionData.sum().\\\n",
        "    to_frame('Frequency').\\\n",
        "    sort_values('Frequency',ascending=False)[:5].\\\n",
        "    plot(kind='bar',\n",
        "         figsize=(12,8),\n",
        "         title=\"Frequent Items\")\n",
        "\n",
        "plt.show()"
      ],
      "metadata": {
        "id": "3m5n9PewTeiE"
      },
      "execution_count": null,
      "outputs": []
    },
    {
      "cell_type": "code",
      "source": [
        "def encode_units(x):\n",
        "    if x <= 0:\n",
        "        return 0\n",
        "    if x >= 1:\n",
        "        return 1\n",
        "trans_sets = transactionData.applymap(encode_units)\n",
        "trans_sets"
      ],
      "metadata": {
        "id": "MbkYjRA_TjRV"
      },
      "execution_count": null,
      "outputs": []
    },
    {
      "cell_type": "code",
      "source": [
        "frequent_itemsets = apriori(trans_sets, \n",
        "                            min_support = 0.2, \n",
        "                            use_colnames = True)\n",
        "\n",
        "frequent_itemsets"
      ],
      "metadata": {
        "id": "8mQc8iuETnHg"
      },
      "execution_count": null,
      "outputs": []
    },
    {
      "cell_type": "code",
      "source": [
        "rules = association_rules(frequent_itemsets, \n",
        "                          metric = \"confidence\", \n",
        "                          min_threshold = 0.7)\n",
        "rules.head()"
      ],
      "metadata": {
        "id": "JqgygahdV5Iy"
      },
      "execution_count": null,
      "outputs": []
    },
    {
      "cell_type": "code",
      "source": [
        "rules['len'] = rules.antecedents.apply(lambda x: len(x))\n",
        "rules"
      ],
      "metadata": {
        "id": "BajssmqsWXhm"
      },
      "execution_count": null,
      "outputs": []
    },
    {
      "cell_type": "code",
      "source": [
        "rules = rules[(rules.len >=2) & (rules.confidence > 0.75) & (rules.lift > 1.2)]"
      ],
      "metadata": {
        "id": "jeCE9gr2WkV4"
      },
      "execution_count": 26,
      "outputs": []
    },
    {
      "cell_type": "code",
      "source": [
        "rules = rules.sort_values(['support','confidence','lift'], ascending=[True,False,False])\n",
        "rules"
      ],
      "metadata": {
        "id": "-0qXpl6tWm9u"
      },
      "execution_count": null,
      "outputs": []
    }
  ]
}